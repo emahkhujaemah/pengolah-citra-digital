{
 "cells": [
  {
   "cell_type": "code",
   "execution_count": 3,
   "id": "b18bbd53",
   "metadata": {},
   "outputs": [],
   "source": [
    "# import library\n",
    "\n",
    "from PIL import Image"
   ]
  },
  {
   "cell_type": "code",
   "execution_count": 4,
   "id": "e2679d75",
   "metadata": {},
   "outputs": [],
   "source": [
    "# definisikan flipping vertikal\n",
    "\n",
    "def flipping_vertikal(gambar, nama_setelah_disave):\n",
    "    CITRA = Image.open(gambar)\n",
    "    PIXEL = CITRA.load()\n",
    "\n",
    "    ukuran_horizontal = CITRA.size[0]\n",
    "    ukuran_vertikal = CITRA.size[1]\n",
    "\n",
    "    CITRA_BARU = Image.new(\"RGB\", (ukuran_horizontal, ukuran_vertikal))\n",
    "    PIXEL_BARU = CITRA_BARU.load()\n",
    "\n",
    "    for x in range(ukuran_horizontal):\n",
    "        for y in range(ukuran_vertikal):\n",
    "            PIXEL_BARU[x, y] = PIXEL[x, ukuran_vertikal - 1 - y]\n",
    "\n",
    "    CITRA_BARU.save(nama_setelah_disave)"
   ]
  },
  {
   "cell_type": "code",
   "execution_count": 5,
   "id": "cd188916",
   "metadata": {},
   "outputs": [],
   "source": [
    "# definiskan flippping horizontal\n",
    "\n",
    "def flipping_horizontal(gambar, nama_setelah_disave):\n",
    "    CITRA = Image.open(gambar)\n",
    "    PIXEL = CITRA.load()\n",
    "\n",
    "    ukuran_horizontal = CITRA.size[0]\n",
    "    ukuran_vertikal = CITRA.size[1]\n",
    "\n",
    "    CITRA_BARU = Image.new(\"RGB\", (ukuran_horizontal, ukuran_vertikal))\n",
    "    PIXEL_BARU = CITRA_BARU.load()\n",
    "\n",
    "    for x in range(ukuran_horizontal):\n",
    "        for y in range(ukuran_vertikal):\n",
    "            PIXEL_BARU[x, y] = PIXEL[ukuran_horizontal - 1 - x, y]\n",
    "\n",
    "    CITRA_BARU.save(nama_setelah_disave)"
   ]
  },
  {
   "cell_type": "code",
   "execution_count": 6,
   "id": "307551b2",
   "metadata": {},
   "outputs": [],
   "source": [
    "# definisikan flipping kembali seperti semula\n",
    "\n",
    "def flipping_titik_asal(gambar, nama_setelah_disave):\n",
    "    CITRA = Image.open(gambar)\n",
    "    PIXEL = CITRA.load()\n",
    "\n",
    "    ukuran_horizontal = CITRA.size[0]\n",
    "    ukuran_vertikal = CITRA.size[1]\n",
    "\n",
    "    CITRA_BARU = Image.new(\"RGB\", (ukuran_horizontal, ukuran_vertikal))\n",
    "    PIXEL_BARU = CITRA_BARU.load()\n",
    "\n",
    "    for x in range(ukuran_horizontal):\n",
    "        for y in range(ukuran_vertikal):\n",
    "            PIXEL_BARU[x, y] = PIXEL[ukuran_horizontal - 1 - x, ukuran_vertikal -1 -y]\n",
    "\n",
    "    CITRA_BARU.save(nama_setelah_disave)"
   ]
  },
  {
   "cell_type": "code",
   "execution_count": 7,
   "id": "8fe77e3b",
   "metadata": {},
   "outputs": [],
   "source": [
    "# tampilkan\n",
    "\n",
    "flipping_vertikal('sekolah.jpg', 'gambar_flip_vertikal.jpg')\n",
    "flipping_horizontal('sekolah.jpg', 'gambar_flip_horizontal.jpg')\n",
    "flipping_titik_asal('sekolah.jpg', 'gambar_flip_titik_asal.jpg')"
   ]
  },
  {
   "cell_type": "code",
   "execution_count": null,
   "id": "5c1c983d",
   "metadata": {},
   "outputs": [],
   "source": []
  }
 ],
 "metadata": {
  "kernelspec": {
   "display_name": "Python 3 (ipykernel)",
   "language": "python",
   "name": "python3"
  },
  "language_info": {
   "codemirror_mode": {
    "name": "ipython",
    "version": 3
   },
   "file_extension": ".py",
   "mimetype": "text/x-python",
   "name": "python",
   "nbconvert_exporter": "python",
   "pygments_lexer": "ipython3",
   "version": "3.9.7"
  }
 },
 "nbformat": 4,
 "nbformat_minor": 5
}
