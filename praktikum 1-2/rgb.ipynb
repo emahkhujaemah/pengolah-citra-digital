{
 "cells": [
  {
   "cell_type": "code",
   "execution_count": 5,
   "id": "05eef4ad",
   "metadata": {},
   "outputs": [],
   "source": [
    "# import library\n",
    "\n",
    "from PIL import Image"
   ]
  },
  {
   "cell_type": "code",
   "execution_count": 6,
   "id": "e96d712d",
   "metadata": {},
   "outputs": [
    {
     "name": "stdout",
     "output_type": "stream",
     "text": [
      "(535, 714)\n",
      "535\n",
      "714\n",
      "(252, 252, 252)\n",
      "252\n",
      "252\n",
      "252\n"
     ]
    }
   ],
   "source": [
    "# load citra\n",
    "\n",
    "IMAGE = Image.open('sekolah.jpg')\n",
    "PIXEL = IMAGE.load()\n",
    "print(IMAGE.size)\n",
    "print(IMAGE.size[0])  # ukuran horizontal\n",
    "print(IMAGE.size[1])\n",
    "print(PIXEL[3, 8])\n",
    "print(PIXEL[3, 8][0])\n",
    "print(PIXEL[3, 8][1])\n",
    "print(PIXEL[3, 8][2])\n",
    "PIXEL[3, 8] = (23, 83, 123)"
   ]
  },
  {
   "cell_type": "code",
   "execution_count": 7,
   "id": "33c50955",
   "metadata": {},
   "outputs": [],
   "source": [
    "for i in range(200):\n",
    "    for j in range(300):\n",
    "        PIXEL[i, j] = (23, 83, 123)"
   ]
  },
  {
   "cell_type": "code",
   "execution_count": 8,
   "id": "9f809838",
   "metadata": {},
   "outputs": [],
   "source": [
    "IMAGE.save('sample2.jpg')\n",
    "IMAGE = Image.open('sekolah.jpg')\n",
    "PIXEL = IMAGE.load()\n",
    "\n",
    "IMAGE2 = Image.open('sample2.jpg')\n",
    "PIXEL2 = IMAGE2.load()\n",
    "\n",
    "IMAGE.save('image3.jpg')\n",
    "IMAGE3 = Image.open('image3.jpg')\n",
    "PIXEL3 = IMAGE3.load()"
   ]
  },
  {
   "cell_type": "code",
   "execution_count": 9,
   "id": "cc028796",
   "metadata": {},
   "outputs": [],
   "source": [
    "for i in range(100):\n",
    "    for j in range(200):\n",
    "        R = PIXEL[i, j][0] - PIXEL2[i, j][0]\n",
    "        G = PIXEL[i, j][1] - PIXEL2[i, j][1]\n",
    "        B = PIXEL[i, j][2] - PIXEL2[i, j][2]\n",
    "        if R == 0 and G == 0 and B == 0:\n",
    "            PIXEL3[i, j] = (255, 255, 255)\n",
    "        else:\n",
    "            PIXEL3[i, j] = (R, G, B)"
   ]
  },
  {
   "cell_type": "code",
   "execution_count": 10,
   "id": "a232f0a5",
   "metadata": {},
   "outputs": [],
   "source": [
    "IMAGE3.save('image4.jpg')"
   ]
  },
  {
   "cell_type": "code",
   "execution_count": null,
   "id": "8537f9e2",
   "metadata": {},
   "outputs": [],
   "source": []
  },
  {
   "cell_type": "code",
   "execution_count": null,
   "id": "0a05847f",
   "metadata": {},
   "outputs": [],
   "source": []
  }
 ],
 "metadata": {
  "kernelspec": {
   "display_name": "Python 3 (ipykernel)",
   "language": "python",
   "name": "python3"
  },
  "language_info": {
   "codemirror_mode": {
    "name": "ipython",
    "version": 3
   },
   "file_extension": ".py",
   "mimetype": "text/x-python",
   "name": "python",
   "nbconvert_exporter": "python",
   "pygments_lexer": "ipython3",
   "version": "3.9.7"
  }
 },
 "nbformat": 4,
 "nbformat_minor": 5
}
