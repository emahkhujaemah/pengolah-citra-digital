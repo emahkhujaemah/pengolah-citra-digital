{
 "cells": [
  {
   "cell_type": "code",
   "execution_count": 1,
   "id": "21723d94",
   "metadata": {},
   "outputs": [],
   "source": [
    "# https://stackoverflow.com/a/138260/9157799\n",
    "from PIL import Image"
   ]
  },
  {
   "cell_type": "code",
   "execution_count": 2,
   "id": "02717228",
   "metadata": {},
   "outputs": [
    {
     "name": "stdout",
     "output_type": "stream",
     "text": [
      "(5120, 2880)\n",
      "5120\n",
      "2880\n",
      "(191, 213, 227)\n",
      "191\n",
      "213\n",
      "227\n"
     ]
    }
   ],
   "source": [
    "IMAGE = Image.open('gambar.jpg')\n",
    "PIXEL = IMAGE.load()\n",
    "print(IMAGE.size)\n",
    "print(IMAGE.size[0])  # ukuran horizontal\n",
    "print(IMAGE.size[1])\n",
    "print(PIXEL[3, 8])\n",
    "print(PIXEL[3, 8][0])\n",
    "print(PIXEL[3, 8][1])\n",
    "print(PIXEL[3, 8][2])\n",
    "PIXEL[3, 8] = (23, 83, 123)"
   ]
  },
  {
   "cell_type": "code",
   "execution_count": 3,
   "id": "a9ccf0d3",
   "metadata": {},
   "outputs": [],
   "source": [
    "for i in range(2500):\n",
    "    for j in range(2880):\n",
    "        PIXEL[i, j] = (23, 83, 123)"
   ]
  },
  {
   "cell_type": "code",
   "execution_count": 4,
   "id": "5bac2906",
   "metadata": {},
   "outputs": [],
   "source": [
    "IMAGE.save('sample2.jpg')\n",
    "IMAGE = Image.open('gambar.jpg')\n",
    "PIXEL = IMAGE.load()"
   ]
  },
  {
   "cell_type": "code",
   "execution_count": 5,
   "id": "f37d3adc",
   "metadata": {},
   "outputs": [],
   "source": [
    "IMAGE2 = Image.open('sample2.jpg')\n",
    "PIXEL2 = IMAGE2.load()"
   ]
  },
  {
   "cell_type": "code",
   "execution_count": 6,
   "id": "686d9658",
   "metadata": {},
   "outputs": [],
   "source": [
    "IMAGE.save('image3.jpg')\n",
    "IMAGE3 = Image.open('image3.jpg')\n",
    "PIXEL3 = IMAGE3.load()"
   ]
  },
  {
   "cell_type": "code",
   "execution_count": null,
   "id": "e930ae40",
   "metadata": {},
   "outputs": [],
   "source": [
    "for i in range(5120):\n",
    "    for j in range(2880):\n",
    "        R = PIXEL[i, j][0] - PIXEL2[i, j][0]\n",
    "        G = PIXEL[i, j][1] - PIXEL2[i, j][1]\n",
    "        B = PIXEL[i, j][2] - PIXEL2[i, j][2]\n",
    "        if R == 0 and G == 0 and B == 0:\n",
    "            PIXEL3[i, j] = (255, 255, 255)\n",
    "        else:\n",
    "            PIXEL3[i, j] = (R, G, B)"
   ]
  },
  {
   "cell_type": "code",
   "execution_count": null,
   "id": "7f0ad5d7",
   "metadata": {},
   "outputs": [],
   "source": [
    "IMAGE3.save('image3.jpg')"
   ]
  },
  {
   "cell_type": "code",
   "execution_count": null,
   "id": "460eaf52",
   "metadata": {},
   "outputs": [],
   "source": [
    "Image.open('image3.jpg')"
   ]
  },
  {
   "cell_type": "code",
   "execution_count": null,
   "id": "e6196061",
   "metadata": {},
   "outputs": [],
   "source": []
  }
 ],
 "metadata": {
  "kernelspec": {
   "display_name": "Python 3 (ipykernel)",
   "language": "python",
   "name": "python3"
  },
  "language_info": {
   "codemirror_mode": {
    "name": "ipython",
    "version": 3
   },
   "file_extension": ".py",
   "mimetype": "text/x-python",
   "name": "python",
   "nbconvert_exporter": "python",
   "pygments_lexer": "ipython3",
   "version": "3.9.7"
  }
 },
 "nbformat": 4,
 "nbformat_minor": 5
}
