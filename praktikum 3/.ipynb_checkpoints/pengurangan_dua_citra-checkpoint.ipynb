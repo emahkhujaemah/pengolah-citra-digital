{
 "cells": [
  {
   "cell_type": "code",
   "execution_count": 1,
   "id": "59394573",
   "metadata": {},
   "outputs": [],
   "source": [
    "from PIL import Image"
   ]
  },
  {
   "cell_type": "code",
   "execution_count": 2,
   "id": "d05eb9ac",
   "metadata": {},
   "outputs": [],
   "source": [
    "def pengurangan_dua_citra(citra_A, citra_B, citra_hasil):\n",
    "    # pastikan ukuran citra A dan citra B sama :)\n",
    "    CITRA_A = Image.open(citra_A)\n",
    "    PIXEL_A = CITRA_A.load()\n",
    "\n",
    "    CITRA_B = Image.open(citra_B)\n",
    "    PIXEL_B = CITRA_B.load()\n",
    "\n",
    "    ukuran_horizontal = CITRA_A.size[0]\n",
    "    ukuran_vertikal = CITRA_A.size[1]\n",
    "\n",
    "    CITRA_HASIL = Image.new(\"RGB\", (ukuran_horizontal, ukuran_vertikal))\n",
    "    PIXEL_HASIL = CITRA_HASIL.load()\n",
    "\n",
    "    for x in range(ukuran_horizontal):\n",
    "        for y in range(ukuran_vertikal):\n",
    "            R = PIXEL_A[x, y][0] - PIXEL_B[x, y][0]\n",
    "            G = PIXEL_A[x, y][1] - PIXEL_B[x, y][1]\n",
    "            B = PIXEL_A[x, y][2] - PIXEL_B[x, y][2]\n",
    "            PIXEL_HASIL[x, y] = (R, G, B)\n",
    "\n",
    "            # jika terdapat perbedaan antara pixel A dan pixel B,\n",
    "            # gunakan pixel B\n",
    "            if R > 0 or G > 0 or B > 0:\n",
    "                PIXEL_HASIL[x, y] = PIXEL_B[x, y]\n",
    "\n",
    "    CITRA_HASIL.save(citra_hasil)"
   ]
  },
  {
   "cell_type": "code",
   "execution_count": null,
   "id": "ceca52f0",
   "metadata": {},
   "outputs": [],
   "source": [
    "pengurangan_dua_citra('gambar.jpg', 'gambar_berbeda.png','gambar_perbedaan.jpg')"
   ]
  },
  {
   "cell_type": "code",
   "execution_count": null,
   "id": "5d7503a1",
   "metadata": {},
   "outputs": [],
   "source": [
    "Image.open('gambar_perbedaan.jpg')"
   ]
  },
  {
   "cell_type": "code",
   "execution_count": null,
   "id": "aebc979a",
   "metadata": {},
   "outputs": [],
   "source": []
  }
 ],
 "metadata": {
  "kernelspec": {
   "display_name": "Python 3 (ipykernel)",
   "language": "python",
   "name": "python3"
  },
  "language_info": {
   "codemirror_mode": {
    "name": "ipython",
    "version": 3
   },
   "file_extension": ".py",
   "mimetype": "text/x-python",
   "name": "python",
   "nbconvert_exporter": "python",
   "pygments_lexer": "ipython3",
   "version": "3.9.7"
  }
 },
 "nbformat": 4,
 "nbformat_minor": 5
}
